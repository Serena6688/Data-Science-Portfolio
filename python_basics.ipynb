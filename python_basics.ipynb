{
 "cells": [
  {
   "cell_type": "code",
   "execution_count": 1,
   "id": "a62f436d-07db-4543-a133-d6f4f51ed6b5",
   "metadata": {},
   "outputs": [],
   "source": [
    "# This document demonstrates my ability to write basic Python code."
   ]
  },
  {
   "cell_type": "code",
   "execution_count": 2,
   "id": "776c5155-d5d2-4907-8a63-598d9282c573",
   "metadata": {},
   "outputs": [
    {
     "name": "stdout",
     "output_type": "stream",
     "text": [
      "<class 'float'>\n",
      "<class 'int'>\n",
      "<class 'str'>\n"
     ]
    }
   ],
   "source": [
    "# Manage different data types\n",
    "x = 10.00; y = 20; z = \"Hello\"  # Assign variables\n",
    "print(type(x)); print(type(y)); print(type(z))  # Data type checking"
   ]
  },
  {
   "cell_type": "code",
   "execution_count": 3,
   "id": "73c7ce1a-a595-450f-879f-2f5bfa2a5e12",
   "metadata": {},
   "outputs": [
    {
     "name": "stdout",
     "output_type": "stream",
     "text": [
      "<class 'float'>\n",
      "<class 'int'>\n"
     ]
    }
   ],
   "source": [
    "x = float(x); y = int(y)  # Change data types\n",
    "print(type(x)); print(type(y))  # Data type checking"
   ]
  },
  {
   "cell_type": "code",
   "execution_count": 4,
   "id": "da6f34a4-a37d-441f-8af2-e9d7c1bb0d6a",
   "metadata": {},
   "outputs": [
    {
     "name": "stdin",
     "output_type": "stream",
     "text": [
      "Enter the first number:  50\n",
      "Enter the first number:  100\n"
     ]
    },
    {
     "name": "stdout",
     "output_type": "stream",
     "text": [
      "Sum: 150.0\n",
      "Difference: -50.0\n",
      "Product: 5000.0\n",
      "Quotient: 0.5\n"
     ]
    }
   ],
   "source": [
    "# Simple calculator\n",
    "\n",
    "number1 = float(input(\"Enter the first number: \")) # Input the numbers\n",
    "number2 = float(input(\"Enter the first number: \"))\n",
    "\n",
    "s = number1 + number2\n",
    "difference = number1 - number2\n",
    "product = number1 * number2\n",
    "quotient = number1 / number2\n",
    "\n",
    "print(\"Sum:\", s)\n",
    "print(\"Difference:\", difference)\n",
    "print(\"Product:\", product)\n",
    "print(\"Quotient:\", quotient) # Print the result"
   ]
  },
  {
   "cell_type": "code",
   "execution_count": 5,
   "id": "2a982ddd-1d48-4261-b79a-7a01caac4833",
   "metadata": {},
   "outputs": [
    {
     "name": "stdout",
     "output_type": "stream",
     "text": [
      "Using a for loop:\n",
      "1\n",
      "2\n",
      "3\n",
      "4\n",
      "5\n",
      "6\n",
      "7\n",
      "8\n",
      "9\n",
      "10\n"
     ]
    }
   ],
   "source": [
    "# Loops\n",
    "print(\"Using a for loop:\")\n",
    "for i in range(1, 11):\n",
    "    print(i)"
   ]
  },
  {
   "cell_type": "code",
   "execution_count": 6,
   "id": "30e5f9fa-c7ca-44dd-99f7-a6e879149933",
   "metadata": {},
   "outputs": [
    {
     "name": "stdout",
     "output_type": "stream",
     "text": [
      "\n",
      "Using a while loop:\n",
      "1\n",
      "2\n",
      "3\n",
      "4\n",
      "5\n",
      "6\n",
      "7\n",
      "8\n",
      "9\n",
      "10\n"
     ]
    }
   ],
   "source": [
    "# Loops\n",
    "print(\"\\nUsing a while loop:\")\n",
    "num = 1\n",
    "while num <= 10:\n",
    "    print(num)\n",
    "    num += 1"
   ]
  },
  {
   "cell_type": "code",
   "execution_count": 7,
   "id": "f11a8811-ccd6-45af-bcb4-3bcb4c7c972c",
   "metadata": {},
   "outputs": [
    {
     "name": "stdout",
     "output_type": "stream",
     "text": [
      "Positive\n"
     ]
    }
   ],
   "source": [
    "# Conditional statements\n",
    "\n",
    "num = 10.5\n",
    "\n",
    "if num > 0:\n",
    "    print(\"Positive\")\n",
    "elif num < 0:\n",
    "    print(\"Negative\")\n",
    "else:\n",
    "    print(\"Zero\")"
   ]
  },
  {
   "cell_type": "code",
   "execution_count": 8,
   "id": "90e188c6-64f5-49ea-96dd-96b86173f5cc",
   "metadata": {},
   "outputs": [
    {
     "name": "stdout",
     "output_type": "stream",
     "text": [
      "apple\n",
      "banana\n",
      "orange\n"
     ]
    }
   ],
   "source": [
    "# Lists\n",
    "fruits = [\"apple\", \"banana\", \"orange\"]\n",
    "print(fruits[0])\n",
    "print(fruits[1])\n",
    "print(fruits[2])"
   ]
  },
  {
   "cell_type": "code",
   "execution_count": 9,
   "id": "45ec453a-6322-4fe3-bc72-988851f3eb38",
   "metadata": {},
   "outputs": [
    {
     "name": "stdout",
     "output_type": "stream",
     "text": [
      "['apple', 'banana', 'orange', 'grape']\n"
     ]
    }
   ],
   "source": [
    "# Append\n",
    "fruits.append(\"grape\")\n",
    "print(fruits)"
   ]
  },
  {
   "cell_type": "code",
   "execution_count": 10,
   "id": "2640894b-bcee-416a-9d9e-289a2b1fa4e6",
   "metadata": {},
   "outputs": [
    {
     "name": "stdout",
     "output_type": "stream",
     "text": [
      "Serena\n"
     ]
    }
   ],
   "source": [
    "# Dictionaries\n",
    "student = {\"name\": \"Serena\", \"age\": 28, \"grade\": \"A\"}\n",
    "print(student[\"name\"])"
   ]
  },
  {
   "cell_type": "code",
   "execution_count": 11,
   "id": "a7388ef2-42fc-458d-9ae1-b89e1412a632",
   "metadata": {},
   "outputs": [
    {
     "name": "stdout",
     "output_type": "stream",
     "text": [
      "2023-08-07 09:34:06.167274\n"
     ]
    }
   ],
   "source": [
    "# Date and Time\n",
    "import datetime\n",
    "\n",
    "current_time = datetime.datetime.now()\n",
    "print(current_time)"
   ]
  },
  {
   "cell_type": "code",
   "execution_count": 12,
   "id": "fa6700be-7440-4a73-9409-414384fe4b75",
   "metadata": {},
   "outputs": [
    {
     "name": "stdout",
     "output_type": "stream",
     "text": [
      "[1, 8, 27, 64, 125]\n"
     ]
    }
   ],
   "source": [
    "# List comprehension\n",
    "numbers = [1, 2, 3, 4, 5]\n",
    "squared_numbers = [num**3 for num in numbers]\n",
    "print(squared_numbers)"
   ]
  },
  {
   "cell_type": "code",
   "execution_count": 13,
   "id": "a47241b9-4823-4602-a6d9-b746453cadaf",
   "metadata": {},
   "outputs": [
    {
     "name": "stdout",
     "output_type": "stream",
     "text": [
      "Hello, my name is Serena Wu, I am 28 years old\n"
     ]
    }
   ],
   "source": [
    "# Define a function\n",
    "class Person:\n",
    "    def __init__(self, name, age):\n",
    "        self.name = name\n",
    "        self.age = age\n",
    "\n",
    "    def greet(self):\n",
    "        print(\"Hello, my name is \" + self.name + \", I am \" + str(self.age) + \" years old\")\n",
    "\n",
    "person = Person(\"Serena Wu\", 28)\n",
    "person.greet()"
   ]
  }
 ],
 "metadata": {
  "kernelspec": {
   "display_name": "Python 3 (ipykernel)",
   "language": "python",
   "name": "python3"
  },
  "language_info": {
   "codemirror_mode": {
    "name": "ipython",
    "version": 3
   },
   "file_extension": ".py",
   "mimetype": "text/x-python",
   "name": "python",
   "nbconvert_exporter": "python",
   "pygments_lexer": "ipython3",
   "version": "3.9.13"
  }
 },
 "nbformat": 4,
 "nbformat_minor": 5
}
