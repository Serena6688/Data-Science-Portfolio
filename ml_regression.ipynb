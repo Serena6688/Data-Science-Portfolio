{
 "cells": [
  {
   "cell_type": "code",
   "execution_count": 1,
   "id": "8acecffa-0ef4-4628-a135-aaef015c1edc",
   "metadata": {},
   "outputs": [],
   "source": [
    "# This document demonstrates my ability for linear regression and  polynomial regressions analysis."
   ]
  },
  {
   "cell_type": "code",
   "execution_count": 2,
   "id": "178e486c-48b8-43d9-b0a6-3cdf1cd9f653",
   "metadata": {},
   "outputs": [
    {
     "data": {
      "text/html": [
       "<div>\n",
       "<style scoped>\n",
       "    .dataframe tbody tr th:only-of-type {\n",
       "        vertical-align: middle;\n",
       "    }\n",
       "\n",
       "    .dataframe tbody tr th {\n",
       "        vertical-align: top;\n",
       "    }\n",
       "\n",
       "    .dataframe thead th {\n",
       "        text-align: right;\n",
       "    }\n",
       "</style>\n",
       "<table border=\"1\" class=\"dataframe\">\n",
       "  <thead>\n",
       "    <tr style=\"text-align: right;\">\n",
       "      <th></th>\n",
       "      <th>series_reference</th>\n",
       "      <th>region_name</th>\n",
       "      <th>filled jobs</th>\n",
       "      <th>filled jobs revised</th>\n",
       "      <th>filled jobs diff</th>\n",
       "      <th>filled jobs % diff</th>\n",
       "      <th>total_earnings</th>\n",
       "      <th>total earnings revised</th>\n",
       "      <th>earnings diff</th>\n",
       "      <th>earnings % diff</th>\n",
       "    </tr>\n",
       "    <tr>\n",
       "      <th>period</th>\n",
       "      <th></th>\n",
       "      <th></th>\n",
       "      <th></th>\n",
       "      <th></th>\n",
       "      <th></th>\n",
       "      <th></th>\n",
       "      <th></th>\n",
       "      <th></th>\n",
       "      <th></th>\n",
       "      <th></th>\n",
       "    </tr>\n",
       "  </thead>\n",
       "  <tbody>\n",
       "    <tr>\n",
       "      <th>2020.09</th>\n",
       "      <td>BDCQ.SED1RA</td>\n",
       "      <td>Northland</td>\n",
       "      <td>65520</td>\n",
       "      <td>65904</td>\n",
       "      <td>384</td>\n",
       "      <td>0.6</td>\n",
       "      <td>953</td>\n",
       "      <td>959</td>\n",
       "      <td>6</td>\n",
       "      <td>0.6</td>\n",
       "    </tr>\n",
       "    <tr>\n",
       "      <th>2020.09</th>\n",
       "      <td>BDCQ.SED1RB</td>\n",
       "      <td>Auckland</td>\n",
       "      <td>708372</td>\n",
       "      <td>714506</td>\n",
       "      <td>6134</td>\n",
       "      <td>0.9</td>\n",
       "      <td>12420</td>\n",
       "      <td>12530</td>\n",
       "      <td>110</td>\n",
       "      <td>0.9</td>\n",
       "    </tr>\n",
       "    <tr>\n",
       "      <th>2020.09</th>\n",
       "      <td>BDCQ.SED1RC</td>\n",
       "      <td>Waikato</td>\n",
       "      <td>198776</td>\n",
       "      <td>200265</td>\n",
       "      <td>1489</td>\n",
       "      <td>0.7</td>\n",
       "      <td>3041</td>\n",
       "      <td>3058</td>\n",
       "      <td>17</td>\n",
       "      <td>0.6</td>\n",
       "    </tr>\n",
       "    <tr>\n",
       "      <th>2020.09</th>\n",
       "      <td>BDCQ.SED1RD</td>\n",
       "      <td>Bay of Plenty</td>\n",
       "      <td>127323</td>\n",
       "      <td>128540</td>\n",
       "      <td>1217</td>\n",
       "      <td>1.0</td>\n",
       "      <td>1881</td>\n",
       "      <td>1899</td>\n",
       "      <td>18</td>\n",
       "      <td>1.0</td>\n",
       "    </tr>\n",
       "    <tr>\n",
       "      <th>2020.09</th>\n",
       "      <td>BDCQ.SED1RE</td>\n",
       "      <td>Gisborne</td>\n",
       "      <td>20417</td>\n",
       "      <td>20632</td>\n",
       "      <td>215</td>\n",
       "      <td>1.1</td>\n",
       "      <td>276</td>\n",
       "      <td>279</td>\n",
       "      <td>3</td>\n",
       "      <td>1.1</td>\n",
       "    </tr>\n",
       "  </tbody>\n",
       "</table>\n",
       "</div>"
      ],
      "text/plain": [
       "        series_reference    region_name  filled jobs  filled jobs revised  \\\n",
       "period                                                                      \n",
       "2020.09      BDCQ.SED1RA      Northland        65520                65904   \n",
       "2020.09      BDCQ.SED1RB       Auckland       708372               714506   \n",
       "2020.09      BDCQ.SED1RC        Waikato       198776               200265   \n",
       "2020.09      BDCQ.SED1RD  Bay of Plenty       127323               128540   \n",
       "2020.09      BDCQ.SED1RE       Gisborne        20417                20632   \n",
       "\n",
       "         filled jobs diff  filled jobs % diff  total_earnings  \\\n",
       "period                                                          \n",
       "2020.09               384                 0.6             953   \n",
       "2020.09              6134                 0.9           12420   \n",
       "2020.09              1489                 0.7            3041   \n",
       "2020.09              1217                 1.0            1881   \n",
       "2020.09               215                 1.1             276   \n",
       "\n",
       "         total earnings revised  earnings diff  earnings % diff  \n",
       "period                                                           \n",
       "2020.09                     959              6              0.6  \n",
       "2020.09                   12530            110              0.9  \n",
       "2020.09                    3058             17              0.6  \n",
       "2020.09                    1899             18              1.0  \n",
       "2020.09                     279              3              1.1  "
      ]
     },
     "execution_count": 2,
     "metadata": {},
     "output_type": "execute_result"
    }
   ],
   "source": [
    "# Import libraries\n",
    "import pandas as pd  \n",
    "import matplotlib.pyplot as plt\n",
    "\n",
    "# Ingest data from csv\n",
    "df = pd.read_csv(\n",
    "    \"assets/Business_employment_data.csv\", index_col=0\n",
    ")  # Read csv into a dataframe\n",
    "df.head()  # Display outputs"
   ]
  },
  {
   "cell_type": "code",
   "execution_count": 3,
   "id": "d02da212-4b77-4d62-9e88-94f4e963227b",
   "metadata": {},
   "outputs": [],
   "source": [
    "# Based on our previous analysis, we can see some sort of regression relationship between 'filled_jobs' and 'total_earnings.' \n",
    "# In this file, let's further analyze this regression relationship. "
   ]
  },
  {
   "cell_type": "code",
   "execution_count": 4,
   "id": "224aaad6-43a2-4f96-a584-44fc90de59b7",
   "metadata": {},
   "outputs": [
    {
     "data": {
      "image/png": "[encoded data removed]",
      "text/plain": [
       "<Figure size 1000x600 with 1 Axes>"
      ]
     },
     "metadata": {},
     "output_type": "display_data"
    }
   ],
   "source": [
    "df['filled_jobs'] = pd.to_numeric(df['filled jobs revised'], errors='coerce')\n",
    "df['total_earnings'] = pd.to_numeric(df['total earnings revised'], errors='coerce')\n",
    "\n",
    "# A scatter plot of filled jobs vs. total earnings using matplotlib\n",
    "plt.figure(figsize=(10, 6))\n",
    "plt.scatter(df['filled_jobs'], df['total_earnings'])\n",
    "plt.title('Filled Jobs vs. Total Earnings')\n",
    "plt.xlabel('Filled Jobs')\n",
    "plt.ylabel('Total Earnings')\n",
    "plt.show()"
   ]
  },
  {
   "cell_type": "code",
   "execution_count": 5,
   "id": "452c3b31-a02c-4b2e-b033-f51ae65000cb",
   "metadata": {},
   "outputs": [
    {
     "data": {
      "text/plain": [
       "<bound method NDFrame.head of         series_reference    region_name  filled jobs  filled jobs revised  \\\n",
       "period                                                                      \n",
       "2020.09      BDCQ.SED1RA      Northland        65520                65904   \n",
       "2020.09      BDCQ.SED1RB       Auckland       708372               714506   \n",
       "2020.09      BDCQ.SED1RC        Waikato       198776               200265   \n",
       "2020.09      BDCQ.SED1RD  Bay of Plenty       127323               128540   \n",
       "2020.09      BDCQ.SED1RE       Gisborne        20417                20632   \n",
       "...                  ...            ...          ...                  ...   \n",
       "2022.12      BDCQ.SED1RL    Marlborough        25707                25909   \n",
       "2022.12      BDCQ.SED1RM     West Coast        14315                14347   \n",
       "2022.12      BDCQ.SED1RN     Canterbury       296998               299921   \n",
       "2022.12      BDCQ.SED1RO          Otago       109243               110509   \n",
       "2022.12      BDCQ.SED1RP      Southland        46964                47437   \n",
       "\n",
       "         filled jobs diff  filled jobs % diff  total_earnings  \\\n",
       "period                                                          \n",
       "2020.09               384                 0.6             959   \n",
       "2020.09              6134                 0.9           12530   \n",
       "2020.09              1489                 0.7            3058   \n",
       "2020.09              1217                 1.0            1899   \n",
       "2020.09               215                 1.1             279   \n",
       "...                   ...                 ...             ...   \n",
       "2022.12               202                 0.8             413   \n",
       "2022.12                32                 0.2             227   \n",
       "2022.12              2923                 1.0            5161   \n",
       "2022.12              1266                 1.2            1803   \n",
       "2022.12               473                 1.0             760   \n",
       "\n",
       "         total earnings revised  earnings diff  earnings % diff  filled_jobs  \n",
       "period                                                                        \n",
       "2020.09                     959              6              0.6        65904  \n",
       "2020.09                   12530            110              0.9       714506  \n",
       "2020.09                    3058             17              0.6       200265  \n",
       "2020.09                    1899             18              1.0       128540  \n",
       "2020.09                     279              3              1.1        20632  \n",
       "...                         ...            ...              ...          ...  \n",
       "2022.12                     413              4              1.0        25909  \n",
       "2022.12                     227              1              0.4        14347  \n",
       "2022.12                    5161             48              0.9       299921  \n",
       "2022.12                    1803             19              1.1       110509  \n",
       "2022.12                     760              8              1.1        47437  \n",
       "\n",
       "[160 rows x 11 columns]>"
      ]
     },
     "execution_count": 5,
     "metadata": {},
     "output_type": "execute_result"
    }
   ],
   "source": [
    "# Data cleaning\n",
    "df = df.drop_duplicates() \n",
    "df['filled_jobs'].fillna(df['filled_jobs'].mean(), inplace=True) # Fill missing values\n",
    "df['total_earnings'].fillna(df['filled_jobs'].mean(), inplace=True)\n",
    "df.head"
   ]
  },
  {
   "cell_type": "code",
   "execution_count": 6,
   "id": "c3429dcf-3bac-4b1c-924f-4dee0ba0f47d",
   "metadata": {},
   "outputs": [
    {
     "name": "stdout",
     "output_type": "stream",
     "text": [
      "Intercept: -226.4979245684035\n",
      "Coefficient: [0.01861335]\n",
      "R-squared: 0.9927449423506597\n",
      "Mean Squared Error: 78026.16629123622\n",
      "Root Mean Squared Error: 279.331642123187\n"
     ]
    }
   ],
   "source": [
    "# Let's try a LinearRegression model first.\n",
    "\n",
    "from sklearn.linear_model import LinearRegression\n",
    "\n",
    "from sklearn.metrics import r2_score, mean_squared_error\n",
    "import math\n",
    "\n",
    "# Build regression model\n",
    "X = df[['filled_jobs']]\n",
    "y = df['total_earnings']\n",
    "model = LinearRegression()\n",
    "model.fit(X, y)\n",
    "\n",
    "# Print the coefficients\n",
    "print('Intercept:', model.intercept_)\n",
    "print('Coefficient:', model.coef_)\n",
    "\n",
    "# Make predictions\n",
    "y_pred = model.predict(X)\n",
    "\n",
    "# Calculate R-squared\n",
    "r2 = r2_score(y, y_pred)\n",
    "\n",
    "# Calculate MSE\n",
    "mse = mean_squared_error(y, y_pred)\n",
    "\n",
    "# Calculate RMSE\n",
    "rmse = math.sqrt(mse)\n",
    "\n",
    "print('R-squared:', r2)\n",
    "print('Mean Squared Error:', mse)\n",
    "print('Root Mean Squared Error:', rmse)"
   ]
  },
  {
   "cell_type": "code",
   "execution_count": 7,
   "id": "f3bb1292-d4e9-467d-bebe-29cf352cdb3a",
   "metadata": {},
   "outputs": [],
   "source": [
    "# Based on the high R-squared value and relatively low MSE and RMSE values, it can be inferred that the Linear Regression model is performing ok.\n",
    "# But do we have other models to fit the data? Let's try polynomial regressions"
   ]
  },
  {
   "cell_type": "code",
   "execution_count": 8,
   "id": "f6b27fed-4453-4863-bc27-101b9f9b0dfc",
   "metadata": {},
   "outputs": [
    {
     "name": "stdout",
     "output_type": "stream",
     "text": [
      "Intercept: -59.59229589030838\n",
      "Coefficients: [0.00000000e+00 1.60848525e-02 3.59120747e-09]\n",
      "R-squared: 0.9946473818491617\n",
      "Mean Squared Error: 57565.948351736355\n",
      "Root Mean Squared Error: 239.92904857840026\n"
     ]
    }
   ],
   "source": [
    "# Polynomial regressions with degree 2\n",
    "# Import the necessary libraries\n",
    "\n",
    "from sklearn.linear_model import LinearRegression\n",
    "from sklearn.preprocessing import PolynomialFeatures\n",
    "from sklearn.metrics import r2_score, mean_squared_error\n",
    "import math\n",
    "\n",
    "# Build the regression model\n",
    "X = df[['filled_jobs']]\n",
    "y = df['total_earnings']\n",
    "\n",
    "# Create polynomial features\n",
    "poly = PolynomialFeatures(degree=2)\n",
    "X_poly = poly.fit_transform(X)\n",
    "\n",
    "# Fit the polynomial regression model\n",
    "model = LinearRegression()\n",
    "model.fit(X_poly, y)\n",
    "\n",
    "# Print the coefficients\n",
    "print('Intercept:', model.intercept_)\n",
    "print('Coefficients:', model.coef_)\n",
    "\n",
    "# Make predictions\n",
    "y_pred = model.predict(X_poly)\n",
    "\n",
    "# Calculate R-squared\n",
    "r2 = r2_score(y, y_pred)\n",
    "\n",
    "# Calculate Mean Squared Error (MSE)\n",
    "mse = mean_squared_error(y, y_pred)\n",
    "\n",
    "# Calculate Root Mean Squared Error (RMSE)\n",
    "rmse = math.sqrt(mse)\n",
    "\n",
    "# Print the results\n",
    "print('R-squared:', r2)\n",
    "print('Mean Squared Error:', mse)\n",
    "print('Root Mean Squared Error:', rmse)"
   ]
  },
  {
   "cell_type": "code",
   "execution_count": 9,
   "id": "c99b7b88-5d9a-48ae-9a5b-44c7655fab9b",
   "metadata": {},
   "outputs": [
    {
     "name": "stdout",
     "output_type": "stream",
     "text": [
      "Intercept: -97.92309683321673\n",
      "Coefficients: [ 0.00000000e+00  1.72483564e-02 -2.15428715e-09  5.75316277e-15]\n",
      "R-squared: 0.9946916711998823\n",
      "Mean Squared Error: 57089.62846411002\n",
      "Root Mean Squared Error: 238.93436015799406\n"
     ]
    }
   ],
   "source": [
    "# Polynomial regressions with degree 3\n",
    "# Import the necessary libraries\n",
    "\n",
    "from sklearn.linear_model import LinearRegression\n",
    "from sklearn.preprocessing import PolynomialFeatures\n",
    "from sklearn.metrics import r2_score, mean_squared_error\n",
    "import math\n",
    "\n",
    "# Build the regression model\n",
    "X = df[['filled_jobs']]\n",
    "y = df['total_earnings']\n",
    "\n",
    "# Create polynomial features\n",
    "poly = PolynomialFeatures(degree=3)\n",
    "X_poly = poly.fit_transform(X)\n",
    "\n",
    "# Fit the polynomial regression model\n",
    "model = LinearRegression()\n",
    "model.fit(X_poly, y)\n",
    "\n",
    "# Print the coefficients\n",
    "print('Intercept:', model.intercept_)\n",
    "print('Coefficients:', model.coef_)\n",
    "\n",
    "# Make predictions\n",
    "y_pred = model.predict(X_poly)\n",
    "\n",
    "# Calculate R-squared\n",
    "r2 = r2_score(y, y_pred)\n",
    "\n",
    "# Calculate Mean Squared Error (MSE)\n",
    "mse = mean_squared_error(y, y_pred)\n",
    "\n",
    "# Calculate Root Mean Squared Error (RMSE)\n",
    "rmse = math.sqrt(mse)\n",
    "\n",
    "# Print the results\n",
    "print('R-squared:', r2)\n",
    "print('Mean Squared Error:', mse)\n",
    "print('Root Mean Squared Error:', rmse)"
   ]
  },
  {
   "cell_type": "code",
   "execution_count": 10,
   "id": "1de1b633-7e5d-481e-9d2e-a81ba5670c01",
   "metadata": {},
   "outputs": [],
   "source": [
    "# Based on output metrics, the polynomial regression models seem to be better than the linear regression model.\n",
    "# Let's find the best degree for polynomial regression models"
   ]
  },
  {
   "cell_type": "code",
   "execution_count": 11,
   "id": "65fa54f6-9620-4147-b6c0-0db87a9edad8",
   "metadata": {},
   "outputs": [
    {
     "name": "stdout",
     "output_type": "stream",
     "text": [
      "Best degree: 4\n"
     ]
    }
   ],
   "source": [
    "from sklearn.model_selection import cross_val_score\n",
    "\n",
    "degrees = [2, 3, 4, 5, 6, 7, 8]  # List of degrees to try\n",
    "cv_scores = []\n",
    "\n",
    "for degree in degrees:\n",
    "    poly = PolynomialFeatures(degree=degree)\n",
    "    X_poly = poly.fit_transform(X)\n",
    "    model = LinearRegression()\n",
    "    scores = cross_val_score(model, X_poly, y, cv=5, scoring='r2')\n",
    "    cv_scores.append(scores.mean())\n",
    "\n",
    "best_degree = degrees[cv_scores.index(max(cv_scores))]\n",
    "print('Best degree:', best_degree)"
   ]
  },
  {
   "cell_type": "code",
   "execution_count": 12,
   "id": "222d2236-c196-45d2-b3cf-23d43006cc4e",
   "metadata": {},
   "outputs": [],
   "source": [
    "# Thank you for sparing your valuable time.\n",
    "# Data download from https://www.stats.govt.nz/large-datasets/csv-files-for-download/ \"Business employment data: March 2023 quarter – regional council revisions – CSV\""
   ]
  }
 ],
 "metadata": {
  "kernelspec": {
   "display_name": "Python 3 (ipykernel)",
   "language": "python",
   "name": "python3"
  },
  "language_info": {
   "codemirror_mode": {
    "name": "ipython",
    "version": 3
   },
   "file_extension": ".py",
   "mimetype": "text/x-python",
   "name": "python",
   "nbconvert_exporter": "python",
   "pygments_lexer": "ipython3",
   "version": "3.9.13"
  }
 },
 "nbformat": 4,
 "nbformat_minor": 5
}
